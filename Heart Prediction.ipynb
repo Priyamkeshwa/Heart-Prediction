{
  "cells": [
    {
      "cell_type": "code",
      "execution_count": null,
      "metadata": {
        "id": "diiL0VMRbx4X"
      },
      "outputs": [],
      "source": [
        "import numpy as np\n",
        "import pandas as pd"
      ]
    },
    {
      "cell_type": "markdown",
      "metadata": {
        "id": "ydNodsiGbx4e"
      },
      "source": [
        "# Data Preprocessing"
      ]
    },
    {
      "cell_type": "code",
      "execution_count": null,
      "metadata": {
        "id": "8XDFJ-qqbx4h"
      },
      "outputs": [],
      "source": [
        "# loading the csv data to a Pandas DataFrame\n",
        "heart_data = pd.read_csv('heart.csv')"
      ]
    },
    {
      "cell_type": "code",
      "execution_count": null,
      "metadata": {
        "id": "C7GlLzzUbx4j",
        "outputId": "9fff0f57-5f65-436d-8cfc-c1743ff86202"
      },
      "outputs": [
        {
          "data": {
            "text/html": [
              "<div>\n",
              "<style scoped>\n",
              "    .dataframe tbody tr th:only-of-type {\n",
              "        vertical-align: middle;\n",
              "    }\n",
              "\n",
              "    .dataframe tbody tr th {\n",
              "        vertical-align: top;\n",
              "    }\n",
              "\n",
              "    .dataframe thead th {\n",
              "        text-align: right;\n",
              "    }\n",
              "</style>\n",
              "<table border=\"1\" class=\"dataframe\">\n",
              "  <thead>\n",
              "    <tr style=\"text-align: right;\">\n",
              "      <th></th>\n",
              "      <th>Age</th>\n",
              "      <th>Sex</th>\n",
              "      <th>ChestPainType</th>\n",
              "      <th>RestingBP</th>\n",
              "      <th>Cholesterol</th>\n",
              "      <th>FastingBS</th>\n",
              "      <th>RestingECG</th>\n",
              "      <th>MaxHR</th>\n",
              "      <th>ExerciseAngina</th>\n",
              "      <th>Oldpeak</th>\n",
              "      <th>ST_Slope</th>\n",
              "      <th>HeartDisease</th>\n",
              "    </tr>\n",
              "  </thead>\n",
              "  <tbody>\n",
              "    <tr>\n",
              "      <th>0</th>\n",
              "      <td>40</td>\n",
              "      <td>M</td>\n",
              "      <td>ATA</td>\n",
              "      <td>140</td>\n",
              "      <td>289</td>\n",
              "      <td>0</td>\n",
              "      <td>Normal</td>\n",
              "      <td>172</td>\n",
              "      <td>N</td>\n",
              "      <td>0.0</td>\n",
              "      <td>Up</td>\n",
              "      <td>0</td>\n",
              "    </tr>\n",
              "    <tr>\n",
              "      <th>1</th>\n",
              "      <td>49</td>\n",
              "      <td>F</td>\n",
              "      <td>NAP</td>\n",
              "      <td>160</td>\n",
              "      <td>180</td>\n",
              "      <td>0</td>\n",
              "      <td>Normal</td>\n",
              "      <td>156</td>\n",
              "      <td>N</td>\n",
              "      <td>1.0</td>\n",
              "      <td>Flat</td>\n",
              "      <td>1</td>\n",
              "    </tr>\n",
              "    <tr>\n",
              "      <th>2</th>\n",
              "      <td>37</td>\n",
              "      <td>M</td>\n",
              "      <td>ATA</td>\n",
              "      <td>130</td>\n",
              "      <td>283</td>\n",
              "      <td>0</td>\n",
              "      <td>ST</td>\n",
              "      <td>98</td>\n",
              "      <td>N</td>\n",
              "      <td>0.0</td>\n",
              "      <td>Up</td>\n",
              "      <td>0</td>\n",
              "    </tr>\n",
              "    <tr>\n",
              "      <th>3</th>\n",
              "      <td>48</td>\n",
              "      <td>F</td>\n",
              "      <td>ASY</td>\n",
              "      <td>138</td>\n",
              "      <td>214</td>\n",
              "      <td>0</td>\n",
              "      <td>Normal</td>\n",
              "      <td>108</td>\n",
              "      <td>Y</td>\n",
              "      <td>1.5</td>\n",
              "      <td>Flat</td>\n",
              "      <td>1</td>\n",
              "    </tr>\n",
              "    <tr>\n",
              "      <th>4</th>\n",
              "      <td>54</td>\n",
              "      <td>M</td>\n",
              "      <td>NAP</td>\n",
              "      <td>150</td>\n",
              "      <td>195</td>\n",
              "      <td>0</td>\n",
              "      <td>Normal</td>\n",
              "      <td>122</td>\n",
              "      <td>N</td>\n",
              "      <td>0.0</td>\n",
              "      <td>Up</td>\n",
              "      <td>0</td>\n",
              "    </tr>\n",
              "  </tbody>\n",
              "</table>\n",
              "</div>"
            ],
            "text/plain": [
              "   Age Sex ChestPainType  RestingBP  Cholesterol  FastingBS RestingECG  MaxHR  \\\n",
              "0   40   M           ATA        140          289          0     Normal    172   \n",
              "1   49   F           NAP        160          180          0     Normal    156   \n",
              "2   37   M           ATA        130          283          0         ST     98   \n",
              "3   48   F           ASY        138          214          0     Normal    108   \n",
              "4   54   M           NAP        150          195          0     Normal    122   \n",
              "\n",
              "  ExerciseAngina  Oldpeak ST_Slope  HeartDisease  \n",
              "0              N      0.0       Up             0  \n",
              "1              N      1.0     Flat             1  \n",
              "2              N      0.0       Up             0  \n",
              "3              Y      1.5     Flat             1  \n",
              "4              N      0.0       Up             0  "
            ]
          },
          "execution_count": 3,
          "metadata": {},
          "output_type": "execute_result"
        }
      ],
      "source": [
        "heart_data.head()"
      ]
    },
    {
      "cell_type": "code",
      "execution_count": null,
      "metadata": {
        "id": "-OzVPxFIbx4m",
        "outputId": "1299a3a3-8d56-42b8-bdf9-2526e9c8df4a"
      },
      "outputs": [
        {
          "data": {
            "text/plain": [
              "(918, 12)"
            ]
          },
          "execution_count": 4,
          "metadata": {},
          "output_type": "execute_result"
        }
      ],
      "source": [
        "# number of rows and columns in the dataset\n",
        "heart_data.shape"
      ]
    },
    {
      "cell_type": "code",
      "execution_count": null,
      "metadata": {
        "id": "U4no1k0mbx4n",
        "outputId": "4c5511d7-07a7-4b7b-80bd-cd256aa0e75e"
      },
      "outputs": [
        {
          "name": "stdout",
          "output_type": "stream",
          "text": [
            "<class 'pandas.core.frame.DataFrame'>\n",
            "RangeIndex: 918 entries, 0 to 917\n",
            "Data columns (total 12 columns):\n",
            " #   Column          Non-Null Count  Dtype  \n",
            "---  ------          --------------  -----  \n",
            " 0   Age             918 non-null    int64  \n",
            " 1   Sex             918 non-null    object \n",
            " 2   ChestPainType   918 non-null    object \n",
            " 3   RestingBP       918 non-null    int64  \n",
            " 4   Cholesterol     918 non-null    int64  \n",
            " 5   FastingBS       918 non-null    int64  \n",
            " 6   RestingECG      918 non-null    object \n",
            " 7   MaxHR           918 non-null    int64  \n",
            " 8   ExerciseAngina  918 non-null    object \n",
            " 9   Oldpeak         918 non-null    float64\n",
            " 10  ST_Slope        918 non-null    object \n",
            " 11  HeartDisease    918 non-null    int64  \n",
            "dtypes: float64(1), int64(6), object(5)\n",
            "memory usage: 86.2+ KB\n"
          ]
        }
      ],
      "source": [
        "# getting some info about the data\n",
        "heart_data.info()"
      ]
    },
    {
      "cell_type": "code",
      "execution_count": null,
      "metadata": {
        "id": "rt9mDQJ_bx4p",
        "outputId": "56f30db9-122a-4b4c-ec2e-50a4109aabc8"
      },
      "outputs": [
        {
          "data": {
            "text/plain": [
              "Age               0\n",
              "Sex               0\n",
              "ChestPainType     0\n",
              "RestingBP         0\n",
              "Cholesterol       0\n",
              "FastingBS         0\n",
              "RestingECG        0\n",
              "MaxHR             0\n",
              "ExerciseAngina    0\n",
              "Oldpeak           0\n",
              "ST_Slope          0\n",
              "HeartDisease      0\n",
              "dtype: int64"
            ]
          },
          "execution_count": 6,
          "metadata": {},
          "output_type": "execute_result"
        }
      ],
      "source": [
        "# checking for missing values\n",
        "heart_data.isnull().sum()"
      ]
    },
    {
      "cell_type": "code",
      "execution_count": null,
      "metadata": {
        "id": "H5r3O80ibx4q",
        "outputId": "01a18353-2f89-4955-8aeb-82dd9251983a"
      },
      "outputs": [
        {
          "data": {
            "text/html": [
              "<div>\n",
              "<style scoped>\n",
              "    .dataframe tbody tr th:only-of-type {\n",
              "        vertical-align: middle;\n",
              "    }\n",
              "\n",
              "    .dataframe tbody tr th {\n",
              "        vertical-align: top;\n",
              "    }\n",
              "\n",
              "    .dataframe thead th {\n",
              "        text-align: right;\n",
              "    }\n",
              "</style>\n",
              "<table border=\"1\" class=\"dataframe\">\n",
              "  <thead>\n",
              "    <tr style=\"text-align: right;\">\n",
              "      <th></th>\n",
              "      <th>Age</th>\n",
              "      <th>RestingBP</th>\n",
              "      <th>Cholesterol</th>\n",
              "      <th>FastingBS</th>\n",
              "      <th>MaxHR</th>\n",
              "      <th>Oldpeak</th>\n",
              "      <th>HeartDisease</th>\n",
              "    </tr>\n",
              "  </thead>\n",
              "  <tbody>\n",
              "    <tr>\n",
              "      <th>count</th>\n",
              "      <td>918.000000</td>\n",
              "      <td>918.000000</td>\n",
              "      <td>918.000000</td>\n",
              "      <td>918.000000</td>\n",
              "      <td>918.000000</td>\n",
              "      <td>918.000000</td>\n",
              "      <td>918.000000</td>\n",
              "    </tr>\n",
              "    <tr>\n",
              "      <th>mean</th>\n",
              "      <td>53.510893</td>\n",
              "      <td>132.396514</td>\n",
              "      <td>198.799564</td>\n",
              "      <td>0.233115</td>\n",
              "      <td>136.809368</td>\n",
              "      <td>0.887364</td>\n",
              "      <td>0.553377</td>\n",
              "    </tr>\n",
              "    <tr>\n",
              "      <th>std</th>\n",
              "      <td>9.432617</td>\n",
              "      <td>18.514154</td>\n",
              "      <td>109.384145</td>\n",
              "      <td>0.423046</td>\n",
              "      <td>25.460334</td>\n",
              "      <td>1.066570</td>\n",
              "      <td>0.497414</td>\n",
              "    </tr>\n",
              "    <tr>\n",
              "      <th>min</th>\n",
              "      <td>28.000000</td>\n",
              "      <td>0.000000</td>\n",
              "      <td>0.000000</td>\n",
              "      <td>0.000000</td>\n",
              "      <td>60.000000</td>\n",
              "      <td>-2.600000</td>\n",
              "      <td>0.000000</td>\n",
              "    </tr>\n",
              "    <tr>\n",
              "      <th>25%</th>\n",
              "      <td>47.000000</td>\n",
              "      <td>120.000000</td>\n",
              "      <td>173.250000</td>\n",
              "      <td>0.000000</td>\n",
              "      <td>120.000000</td>\n",
              "      <td>0.000000</td>\n",
              "      <td>0.000000</td>\n",
              "    </tr>\n",
              "    <tr>\n",
              "      <th>50%</th>\n",
              "      <td>54.000000</td>\n",
              "      <td>130.000000</td>\n",
              "      <td>223.000000</td>\n",
              "      <td>0.000000</td>\n",
              "      <td>138.000000</td>\n",
              "      <td>0.600000</td>\n",
              "      <td>1.000000</td>\n",
              "    </tr>\n",
              "    <tr>\n",
              "      <th>75%</th>\n",
              "      <td>60.000000</td>\n",
              "      <td>140.000000</td>\n",
              "      <td>267.000000</td>\n",
              "      <td>0.000000</td>\n",
              "      <td>156.000000</td>\n",
              "      <td>1.500000</td>\n",
              "      <td>1.000000</td>\n",
              "    </tr>\n",
              "    <tr>\n",
              "      <th>max</th>\n",
              "      <td>77.000000</td>\n",
              "      <td>200.000000</td>\n",
              "      <td>603.000000</td>\n",
              "      <td>1.000000</td>\n",
              "      <td>202.000000</td>\n",
              "      <td>6.200000</td>\n",
              "      <td>1.000000</td>\n",
              "    </tr>\n",
              "  </tbody>\n",
              "</table>\n",
              "</div>"
            ],
            "text/plain": [
              "              Age   RestingBP  Cholesterol   FastingBS       MaxHR  \\\n",
              "count  918.000000  918.000000   918.000000  918.000000  918.000000   \n",
              "mean    53.510893  132.396514   198.799564    0.233115  136.809368   \n",
              "std      9.432617   18.514154   109.384145    0.423046   25.460334   \n",
              "min     28.000000    0.000000     0.000000    0.000000   60.000000   \n",
              "25%     47.000000  120.000000   173.250000    0.000000  120.000000   \n",
              "50%     54.000000  130.000000   223.000000    0.000000  138.000000   \n",
              "75%     60.000000  140.000000   267.000000    0.000000  156.000000   \n",
              "max     77.000000  200.000000   603.000000    1.000000  202.000000   \n",
              "\n",
              "          Oldpeak  HeartDisease  \n",
              "count  918.000000    918.000000  \n",
              "mean     0.887364      0.553377  \n",
              "std      1.066570      0.497414  \n",
              "min     -2.600000      0.000000  \n",
              "25%      0.000000      0.000000  \n",
              "50%      0.600000      1.000000  \n",
              "75%      1.500000      1.000000  \n",
              "max      6.200000      1.000000  "
            ]
          },
          "execution_count": 7,
          "metadata": {},
          "output_type": "execute_result"
        }
      ],
      "source": [
        "# statistical measures about the data\n",
        "heart_data.describe()"
      ]
    },
    {
      "cell_type": "code",
      "execution_count": null,
      "metadata": {
        "id": "zBCAo_qZbx4r",
        "outputId": "ffb81593-0dc0-4134-833b-e7774c2037fe"
      },
      "outputs": [
        {
          "data": {
            "text/plain": [
              "1    508\n",
              "0    410\n",
              "Name: HeartDisease, dtype: int64"
            ]
          },
          "execution_count": 6,
          "metadata": {},
          "output_type": "execute_result"
        }
      ],
      "source": [
        "# checking the distribution of Target Variable\n",
        "heart_data['HeartDisease'].value_counts()"
      ]
    },
    {
      "cell_type": "markdown",
      "metadata": {
        "id": "y9a0lzPtbx4t"
      },
      "source": [
        "1 --> Defective Heart\n",
        "\n",
        "0 --> Healthy Heart"
      ]
    },
    {
      "cell_type": "markdown",
      "metadata": {
        "id": "BRoWi642bx4t"
      },
      "source": [
        "Handling Categorical Values"
      ]
    },
    {
      "cell_type": "code",
      "execution_count": null,
      "metadata": {
        "id": "9cEF2Fumbx4u"
      },
      "outputs": [],
      "source": [
        "from sklearn.preprocessing import LabelEncoder\n",
        "en = LabelEncoder()"
      ]
    },
    {
      "cell_type": "code",
      "execution_count": null,
      "metadata": {
        "id": "Nq0tNYQsbx4v"
      },
      "outputs": [],
      "source": [
        "cols = ['Sex','ChestPainType','RestingECG','ExerciseAngina','ST_Slope']\n",
        "for col in cols:\n",
        "    heart_data[col] = en.fit_transform(heart_data[col])"
      ]
    },
    {
      "cell_type": "markdown",
      "metadata": {
        "id": "h0IPJTM7bx4w"
      },
      "source": [
        "Splitting the Features and Target"
      ]
    },
    {
      "cell_type": "code",
      "execution_count": null,
      "metadata": {
        "id": "o_Qon9XJbx4x"
      },
      "outputs": [],
      "source": [
        "X = heart_data.drop(columns='HeartDisease', axis=1)\n",
        "Y = heart_data['HeartDisease']"
      ]
    },
    {
      "cell_type": "code",
      "execution_count": null,
      "metadata": {
        "id": "LVvVWCoGbx4y",
        "outputId": "0155d451-7fee-4cf2-a2eb-43cddc0d05c3"
      },
      "outputs": [
        {
          "name": "stdout",
          "output_type": "stream",
          "text": [
            "     Age  Sex  ChestPainType  RestingBP  Cholesterol  FastingBS  RestingECG  \\\n",
            "0     40    1              1        140          289          0           1   \n",
            "1     49    0              2        160          180          0           1   \n",
            "2     37    1              1        130          283          0           2   \n",
            "3     48    0              0        138          214          0           1   \n",
            "4     54    1              2        150          195          0           1   \n",
            "..   ...  ...            ...        ...          ...        ...         ...   \n",
            "913   45    1              3        110          264          0           1   \n",
            "914   68    1              0        144          193          1           1   \n",
            "915   57    1              0        130          131          0           1   \n",
            "916   57    0              1        130          236          0           0   \n",
            "917   38    1              2        138          175          0           1   \n",
            "\n",
            "     MaxHR  ExerciseAngina  Oldpeak  ST_Slope  \n",
            "0      172               0      0.0         2  \n",
            "1      156               0      1.0         1  \n",
            "2       98               0      0.0         2  \n",
            "3      108               1      1.5         1  \n",
            "4      122               0      0.0         2  \n",
            "..     ...             ...      ...       ...  \n",
            "913    132               0      1.2         1  \n",
            "914    141               0      3.4         1  \n",
            "915    115               1      1.2         1  \n",
            "916    174               0      0.0         1  \n",
            "917    173               0      0.0         2  \n",
            "\n",
            "[918 rows x 11 columns]\n"
          ]
        }
      ],
      "source": [
        "print(X)"
      ]
    },
    {
      "cell_type": "code",
      "execution_count": null,
      "metadata": {
        "id": "BS6k_vdPbx4z",
        "outputId": "1ff1cba5-74a3-4697-8023-8d7ef2f01a03"
      },
      "outputs": [
        {
          "name": "stdout",
          "output_type": "stream",
          "text": [
            "0      0\n",
            "1      1\n",
            "2      0\n",
            "3      1\n",
            "4      0\n",
            "      ..\n",
            "913    1\n",
            "914    1\n",
            "915    1\n",
            "916    1\n",
            "917    0\n",
            "Name: HeartDisease, Length: 918, dtype: int64\n"
          ]
        }
      ],
      "source": [
        "print(Y)"
      ]
    },
    {
      "cell_type": "markdown",
      "metadata": {
        "id": "HV8LnYqgbx40"
      },
      "source": [
        "Importing sklearn library"
      ]
    },
    {
      "cell_type": "code",
      "execution_count": null,
      "metadata": {
        "id": "G8ektpW3bx41"
      },
      "outputs": [],
      "source": [
        "from sklearn.model_selection import train_test_split\n",
        "from sklearn.linear_model import LogisticRegression\n",
        "from sklearn.metrics import accuracy_score,classification_report"
      ]
    },
    {
      "cell_type": "markdown",
      "metadata": {
        "id": "y6dZGWJAbx41"
      },
      "source": [
        "Splitting the Data into Training & Testing data"
      ]
    },
    {
      "cell_type": "code",
      "execution_count": null,
      "metadata": {
        "id": "UGe1G5fmbx42"
      },
      "outputs": [],
      "source": [
        "X_train, X_test, Y_train, Y_test = train_test_split(X, Y, test_size=0.2, stratify=Y, random_state=2)"
      ]
    },
    {
      "cell_type": "code",
      "execution_count": null,
      "metadata": {
        "id": "dk9Schbmbx43",
        "outputId": "f345e805-4ab6-4454-ee0b-1df5d188c68a"
      },
      "outputs": [
        {
          "name": "stdout",
          "output_type": "stream",
          "text": [
            "(918, 11) (734, 11) (184, 11)\n"
          ]
        }
      ],
      "source": [
        "print(X.shape, X_train.shape, X_test.shape)"
      ]
    },
    {
      "cell_type": "markdown",
      "metadata": {
        "id": "aWAIMNEwbx45"
      },
      "source": [
        "Model Training"
      ]
    },
    {
      "cell_type": "markdown",
      "metadata": {
        "id": "V0-HX-f1bx46"
      },
      "source": [
        "# Logistic Regression"
      ]
    },
    {
      "cell_type": "code",
      "execution_count": null,
      "metadata": {
        "id": "lsAsYvbZbx46"
      },
      "outputs": [],
      "source": [
        "model = LogisticRegression()"
      ]
    },
    {
      "cell_type": "code",
      "execution_count": null,
      "metadata": {
        "id": "AMy41I6-bx47",
        "outputId": "2747b1ad-e368-4422-a1cc-0c5c842b5f6a"
      },
      "outputs": [
        {
          "name": "stderr",
          "output_type": "stream",
          "text": [
            "C:\\Users\\TARUN\\AppData\\Local\\Programs\\Python\\Python310\\lib\\site-packages\\sklearn\\linear_model\\_logistic.py:814: ConvergenceWarning: lbfgs failed to converge (status=1):\n",
            "STOP: TOTAL NO. of ITERATIONS REACHED LIMIT.\n",
            "\n",
            "Increase the number of iterations (max_iter) or scale the data as shown in:\n",
            "    https://scikit-learn.org/stable/modules/preprocessing.html\n",
            "Please also refer to the documentation for alternative solver options:\n",
            "    https://scikit-learn.org/stable/modules/linear_model.html#logistic-regression\n",
            "  n_iter_i = _check_optimize_result(\n"
          ]
        },
        {
          "data": {
            "text/plain": [
              "LogisticRegression()"
            ]
          },
          "execution_count": 18,
          "metadata": {},
          "output_type": "execute_result"
        }
      ],
      "source": [
        "# training the LogisticRegression model with Training data\n",
        "model.fit(X_train, Y_train)"
      ]
    },
    {
      "cell_type": "code",
      "execution_count": null,
      "metadata": {
        "id": "ugdqiso1bx48"
      },
      "outputs": [],
      "source": [
        "y_pred=model.predict(X_test)\n",
        "acc=accuracy_score(y_pred,Y_test)"
      ]
    },
    {
      "cell_type": "code",
      "execution_count": null,
      "metadata": {
        "id": "moBQtFaZbx49",
        "outputId": "8b5b8e96-139a-4176-8035-d41788cedf5c"
      },
      "outputs": [
        {
          "name": "stdout",
          "output_type": "stream",
          "text": [
            "Accuracy on Test data :  0.8532608695652174\n"
          ]
        }
      ],
      "source": [
        "print('Accuracy on Test data : ', acc)"
      ]
    },
    {
      "cell_type": "code",
      "execution_count": null,
      "metadata": {
        "id": "Gm54tTnXbx4-",
        "outputId": "33f43658-0b42-4ace-d609-b3a74b461880"
      },
      "outputs": [
        {
          "name": "stdout",
          "output_type": "stream",
          "text": [
            "              precision    recall  f1-score   support\n",
            "\n",
            "           0       0.83      0.84      0.83        81\n",
            "           1       0.87      0.86      0.87       103\n",
            "\n",
            "    accuracy                           0.85       184\n",
            "   macro avg       0.85      0.85      0.85       184\n",
            "weighted avg       0.85      0.85      0.85       184\n",
            "\n"
          ]
        }
      ],
      "source": [
        "print(classification_report(y_pred,Y_test))"
      ]
    },
    {
      "cell_type": "code",
      "execution_count": null,
      "metadata": {
        "id": "XQABVSRfbx4_",
        "outputId": "059e0501-1e28-4913-8a4d-0cac61206970"
      },
      "outputs": [
        {
          "name": "stdout",
          "output_type": "stream",
          "text": [
            "[[68 14]\n",
            " [13 89]]\n"
          ]
        }
      ],
      "source": [
        "from sklearn.metrics import confusion_matrix\n",
        "print(confusion_matrix(Y_test,y_pred))"
      ]
    },
    {
      "cell_type": "markdown",
      "metadata": {
        "id": "NXnX5aR9bx5A"
      },
      "source": [
        "# Naive Bayes"
      ]
    },
    {
      "cell_type": "code",
      "execution_count": null,
      "metadata": {
        "id": "GQavTZMMbx5B"
      },
      "outputs": [],
      "source": [
        "from sklearn.naive_bayes import GaussianNB\n",
        "nb=GaussianNB()"
      ]
    },
    {
      "cell_type": "code",
      "execution_count": null,
      "metadata": {
        "id": "ivW6dZZgbx5B",
        "outputId": "5a3550f9-9fc2-49e8-bd0f-81036eddf4f4"
      },
      "outputs": [
        {
          "data": {
            "text/plain": [
              "GaussianNB()"
            ]
          },
          "execution_count": 26,
          "metadata": {},
          "output_type": "execute_result"
        }
      ],
      "source": [
        "nb.fit(X_train, Y_train)"
      ]
    },
    {
      "cell_type": "code",
      "execution_count": null,
      "metadata": {
        "id": "J4vRrOt8bx5C",
        "outputId": "4cff0b08-4a91-42e4-e84b-ccc0c29a73ce"
      },
      "outputs": [
        {
          "name": "stdout",
          "output_type": "stream",
          "text": [
            "0.8260869565217391\n"
          ]
        }
      ],
      "source": [
        "y_nb_pred=nb.predict(X_test)\n",
        "print(accuracy_score(y_nb_pred,Y_test))"
      ]
    },
    {
      "cell_type": "code",
      "execution_count": null,
      "metadata": {
        "id": "aj6kbPuTbx5E",
        "outputId": "e97d46da-952b-4853-bebe-0c6834e1c146"
      },
      "outputs": [
        {
          "name": "stdout",
          "output_type": "stream",
          "text": [
            "              precision    recall  f1-score   support\n",
            "\n",
            "           0       0.82      0.80      0.81        84\n",
            "           1       0.83      0.85      0.84       100\n",
            "\n",
            "    accuracy                           0.83       184\n",
            "   macro avg       0.83      0.82      0.82       184\n",
            "weighted avg       0.83      0.83      0.83       184\n",
            "\n"
          ]
        }
      ],
      "source": [
        "print(classification_report(y_nb_pred,Y_test))"
      ]
    },
    {
      "cell_type": "markdown",
      "metadata": {
        "id": "3lPVEV6gbx5E"
      },
      "source": [
        "# Support Vector Machines"
      ]
    },
    {
      "cell_type": "code",
      "execution_count": null,
      "metadata": {
        "id": "NZk4Fcbqbx5G"
      },
      "outputs": [],
      "source": [
        "from sklearn import svm\n",
        "m=svm.LinearSVC(random_state=0, tol=1e-5)"
      ]
    },
    {
      "cell_type": "code",
      "execution_count": null,
      "metadata": {
        "id": "G85zknFFbx5H",
        "outputId": "21737ac6-0986-4b8b-bff0-946e25c60304"
      },
      "outputs": [
        {
          "name": "stderr",
          "output_type": "stream",
          "text": [
            "C:\\Python\\Python38\\lib\\site-packages\\sklearn\\svm\\_base.py:985: ConvergenceWarning: Liblinear failed to converge, increase the number of iterations.\n",
            "  warnings.warn(\"Liblinear failed to converge, increase \"\n"
          ]
        },
        {
          "data": {
            "text/plain": [
              "LinearSVC(random_state=0, tol=1e-05)"
            ]
          },
          "execution_count": 27,
          "metadata": {},
          "output_type": "execute_result"
        }
      ],
      "source": [
        "m.fit(X_train,Y_train)"
      ]
    },
    {
      "cell_type": "code",
      "execution_count": null,
      "metadata": {
        "id": "V9XW11Z1bx5I",
        "outputId": "1a78f029-b9c5-4c3b-fd07-54a1740206b7"
      },
      "outputs": [
        {
          "name": "stdout",
          "output_type": "stream",
          "text": [
            "Accuracy :  0.6086956521739131\n"
          ]
        }
      ],
      "source": [
        "y_svm_pred = m.predict(X_test)\n",
        "print(\"Accuracy : \",accuracy_score(y_svm_pred,Y_test))"
      ]
    },
    {
      "cell_type": "code",
      "execution_count": null,
      "metadata": {
        "id": "B8YYKgjUbx5K",
        "outputId": "7ff72637-7236-4ea8-eeea-36288f9ce89e"
      },
      "outputs": [
        {
          "name": "stdout",
          "output_type": "stream",
          "text": [
            "              precision    recall  f1-score   support\n",
            "\n",
            "           0       0.12      1.00      0.22        10\n",
            "           1       1.00      0.59      0.74       174\n",
            "\n",
            "    accuracy                           0.61       184\n",
            "   macro avg       0.56      0.79      0.48       184\n",
            "weighted avg       0.95      0.61      0.71       184\n",
            "\n"
          ]
        }
      ],
      "source": [
        "print(classification_report(y_svm_pred,Y_test))"
      ]
    },
    {
      "cell_type": "markdown",
      "metadata": {
        "id": "XxxdXKQbbx5L"
      },
      "source": [
        "# SVM-HyperParameter Tuning"
      ]
    },
    {
      "cell_type": "code",
      "execution_count": null,
      "metadata": {
        "id": "UortLXQTbx5M"
      },
      "outputs": [],
      "source": [
        "from sklearn.pipeline import Pipeline\n",
        "from sklearn.preprocessing import StandardScaler"
      ]
    },
    {
      "cell_type": "code",
      "execution_count": null,
      "metadata": {
        "id": "wKboBqgUbx5N"
      },
      "outputs": [],
      "source": [
        "#Scaling the features using pipeline\n",
        "pipeline = Pipeline([\n",
        "            ('std_scaler',StandardScaler()),\n",
        "                    ])\n",
        "scaled_X_train = pipeline.fit_transform(X_train)\n",
        "scaled_X_test = pipeline.transform(X_test)"
      ]
    },
    {
      "cell_type": "code",
      "execution_count": null,
      "metadata": {
        "id": "LiIiZWAUbx5O"
      },
      "outputs": [],
      "source": [
        "from sklearn.svm import SVC"
      ]
    },
    {
      "cell_type": "code",
      "execution_count": null,
      "metadata": {
        "id": "3BnXYA0Ybx5Q",
        "outputId": "e845f624-8ed2-4500-9be9-4f017ac511de"
      },
      "outputs": [
        {
          "data": {
            "text/plain": [
              "SVC()"
            ]
          },
          "execution_count": 33,
          "metadata": {},
          "output_type": "execute_result"
        }
      ],
      "source": [
        "model_svc = SVC()\n",
        "model_svc.fit(scaled_X_train,Y_train)"
      ]
    },
    {
      "cell_type": "code",
      "execution_count": null,
      "metadata": {
        "id": "3-NlG-DGbx5R",
        "outputId": "9daafa64-b49a-46f6-dd0a-ce7c60892749"
      },
      "outputs": [
        {
          "data": {
            "text/plain": [
              "{'C': 1.0,\n",
              " 'break_ties': False,\n",
              " 'cache_size': 200,\n",
              " 'class_weight': None,\n",
              " 'coef0': 0.0,\n",
              " 'decision_function_shape': 'ovr',\n",
              " 'degree': 3,\n",
              " 'gamma': 'scale',\n",
              " 'kernel': 'rbf',\n",
              " 'max_iter': -1,\n",
              " 'probability': False,\n",
              " 'random_state': None,\n",
              " 'shrinking': True,\n",
              " 'tol': 0.001,\n",
              " 'verbose': False}"
            ]
          },
          "execution_count": 34,
          "metadata": {},
          "output_type": "execute_result"
        }
      ],
      "source": [
        "model_svc.get_params()"
      ]
    },
    {
      "cell_type": "code",
      "execution_count": null,
      "metadata": {
        "id": "-VIw-ev7bx5T",
        "outputId": "c93be4c4-e2ff-4e0f-bced-8b312cddc0fe"
      },
      "outputs": [
        {
          "name": "stdout",
          "output_type": "stream",
          "text": [
            "Accuracy :  0.8804347826086957\n"
          ]
        }
      ],
      "source": [
        "pred_svc = model_svc.predict(scaled_X_test)\n",
        "print(\"Accuracy : \",accuracy_score(pred_svc,Y_test))"
      ]
    },
    {
      "cell_type": "code",
      "execution_count": null,
      "metadata": {
        "id": "cCnbZ6Qqbx5V",
        "outputId": "da172222-f558-41e4-8538-7c7cb2b72706"
      },
      "outputs": [
        {
          "name": "stdout",
          "output_type": "stream",
          "text": [
            "              precision    recall  f1-score   support\n",
            "\n",
            "           0       0.88      0.84      0.86        82\n",
            "           1       0.88      0.91      0.89       102\n",
            "\n",
            "    accuracy                           0.88       184\n",
            "   macro avg       0.88      0.88      0.88       184\n",
            "weighted avg       0.88      0.88      0.88       184\n",
            "\n"
          ]
        }
      ],
      "source": [
        "print(classification_report(Y_test,pred_svc))"
      ]
    },
    {
      "cell_type": "code",
      "execution_count": null,
      "metadata": {
        "id": "AQ-aj0A0bx5X"
      },
      "outputs": [],
      "source": [
        "#Hyperparamter tuning using Gridsearch\n",
        "from sklearn.model_selection import GridSearchCV\n",
        "svm = SVC()\n",
        "# param_grid = {'C':[0.01,0.05,0.1,1,10, 100, 1000],'kernel':['linear','rbf'], 'gamma':['scale','auto'] }\n",
        "param_grid = {'C': [0.1, 1, 10, 100, 1000],\n",
        "              'gamma': [1, 0.1, 0.01, 0.001, 0.0001],\n",
        "              'kernel': ['rbf','linear']}\n",
        "grid = GridSearchCV(svm,param_grid)"
      ]
    },
    {
      "cell_type": "code",
      "execution_count": null,
      "metadata": {
        "id": "Taq5Djp3bx5Y",
        "outputId": "0ccbfcff-86df-4f41-9175-ef111698abf6"
      },
      "outputs": [
        {
          "data": {
            "text/plain": [
              "GridSearchCV(estimator=SVC(),\n",
              "             param_grid={'C': [0.1, 1, 10, 100, 1000],\n",
              "                         'gamma': [1, 0.1, 0.01, 0.001, 0.0001],\n",
              "                         'kernel': ['rbf', 'linear']})"
            ]
          },
          "execution_count": 39,
          "metadata": {},
          "output_type": "execute_result"
        }
      ],
      "source": [
        "grid.fit(scaled_X_train,Y_train)"
      ]
    },
    {
      "cell_type": "code",
      "execution_count": null,
      "metadata": {
        "id": "n5pxrV1rbx5Z",
        "outputId": "731c0747-d283-48e6-f349-5cad8aec5c91"
      },
      "outputs": [
        {
          "name": "stdout",
          "output_type": "stream",
          "text": [
            "Accuracy:  0.8858695652173914\n"
          ]
        }
      ],
      "source": [
        "grid_svc = grid.predict(scaled_X_test)\n",
        "print(\"Accuracy: \",accuracy_score(Y_test,grid_svc))"
      ]
    },
    {
      "cell_type": "code",
      "execution_count": null,
      "metadata": {
        "id": "6SSm4dWGbx5a",
        "outputId": "a8be1634-3d6c-440a-b53f-6e1ead20ec6f"
      },
      "outputs": [
        {
          "name": "stdout",
          "output_type": "stream",
          "text": [
            "              precision    recall  f1-score   support\n",
            "\n",
            "           0       0.89      0.85      0.87        82\n",
            "           1       0.89      0.91      0.90       102\n",
            "\n",
            "    accuracy                           0.89       184\n",
            "   macro avg       0.89      0.88      0.88       184\n",
            "weighted avg       0.89      0.89      0.89       184\n",
            "\n"
          ]
        }
      ],
      "source": [
        "print(classification_report(Y_test,grid_svc))"
      ]
    },
    {
      "cell_type": "markdown",
      "metadata": {
        "id": "3amLbExAbx5b"
      },
      "source": [
        "# Decision Trees"
      ]
    },
    {
      "cell_type": "code",
      "execution_count": null,
      "metadata": {
        "id": "EgujGpGPbx5b"
      },
      "outputs": [],
      "source": [
        "from sklearn.tree import DecisionTreeClassifier\n",
        "model_DT = DecisionTreeClassifier()"
      ]
    },
    {
      "cell_type": "code",
      "execution_count": null,
      "metadata": {
        "id": "Vp8cRcRvbx5c",
        "outputId": "200b994e-ac7f-40c4-aeae-358a91198deb"
      },
      "outputs": [
        {
          "data": {
            "text/plain": [
              "DecisionTreeClassifier()"
            ]
          },
          "execution_count": 18,
          "metadata": {},
          "output_type": "execute_result"
        }
      ],
      "source": [
        "model_DT.fit(X_train,Y_train)"
      ]
    },
    {
      "cell_type": "code",
      "execution_count": null,
      "metadata": {
        "id": "mOjoG1smbx5d",
        "outputId": "b21f4357-4db7-4d18-ff71-8b241b47b061"
      },
      "outputs": [
        {
          "name": "stdout",
          "output_type": "stream",
          "text": [
            "Accuracy :  0.8152173913043478\n"
          ]
        }
      ],
      "source": [
        "y_DT_pred=model_DT.predict(X_test)\n",
        "print(\"Accuracy : \",accuracy_score(y_DT_pred,Y_test))"
      ]
    },
    {
      "cell_type": "code",
      "execution_count": null,
      "metadata": {
        "id": "kFKgT50kbx5e",
        "outputId": "b8679cae-012a-4c08-e802-9ca43079729a"
      },
      "outputs": [
        {
          "name": "stdout",
          "output_type": "stream",
          "text": [
            "              precision    recall  f1-score   support\n",
            "\n",
            "           0       0.83      0.77      0.80        88\n",
            "           1       0.80      0.85      0.83        96\n",
            "\n",
            "    accuracy                           0.82       184\n",
            "   macro avg       0.82      0.81      0.81       184\n",
            "weighted avg       0.82      0.82      0.81       184\n",
            "\n"
          ]
        }
      ],
      "source": [
        "print(classification_report(y_DT_pred,Y_test))"
      ]
    },
    {
      "cell_type": "markdown",
      "metadata": {
        "id": "zMv3BsDHbx5f"
      },
      "source": [
        "# Random Forest"
      ]
    },
    {
      "cell_type": "code",
      "execution_count": null,
      "metadata": {
        "id": "fpvAElr7bx5g"
      },
      "outputs": [],
      "source": [
        "from sklearn.ensemble import RandomForestClassifier\n",
        "clf=RandomForestClassifier(n_estimators=200)"
      ]
    },
    {
      "cell_type": "code",
      "execution_count": null,
      "metadata": {
        "id": "p13EU7l1bx5h",
        "outputId": "31a962ca-0efb-4dfe-c06d-6a7aeca14a69"
      },
      "outputs": [
        {
          "data": {
            "text/plain": [
              "RandomForestClassifier(n_estimators=200)"
            ]
          },
          "execution_count": 22,
          "metadata": {},
          "output_type": "execute_result"
        }
      ],
      "source": [
        "clf.fit(X_train,Y_train)"
      ]
    },
    {
      "cell_type": "code",
      "execution_count": null,
      "metadata": {
        "id": "n5rZBLZ7bx5i",
        "outputId": "afd18e84-2ef6-4519-84e7-0855978a908c"
      },
      "outputs": [
        {
          "name": "stdout",
          "output_type": "stream",
          "text": [
            "Accuracy :  0.9021739130434783\n"
          ]
        }
      ],
      "source": [
        "y_RF_pred = clf.predict(X_test)\n",
        "print(\"Accuracy : \",accuracy_score(y_RF_pred,Y_test))"
      ]
    },
    {
      "cell_type": "code",
      "execution_count": null,
      "metadata": {
        "id": "59b_fPelbx5j",
        "outputId": "c1feddf9-9ab2-4363-af2c-d3e0eb2dd165"
      },
      "outputs": [
        {
          "name": "stdout",
          "output_type": "stream",
          "text": [
            "              precision    recall  f1-score   support\n",
            "\n",
            "           0       0.87      0.91      0.89        78\n",
            "           1       0.93      0.90      0.91       106\n",
            "\n",
            "    accuracy                           0.90       184\n",
            "   macro avg       0.90      0.90      0.90       184\n",
            "weighted avg       0.90      0.90      0.90       184\n",
            "\n"
          ]
        }
      ],
      "source": [
        "print(classification_report(y_RF_pred,Y_test))"
      ]
    },
    {
      "cell_type": "markdown",
      "metadata": {
        "id": "glxWAoUKbx5k"
      },
      "source": [
        "# Gradient Boosting Classifier"
      ]
    },
    {
      "cell_type": "code",
      "execution_count": null,
      "metadata": {
        "id": "L25nx-kbbx5k"
      },
      "outputs": [],
      "source": [
        "from sklearn.ensemble import GradientBoostingClassifier"
      ]
    },
    {
      "cell_type": "code",
      "execution_count": null,
      "metadata": {
        "id": "KVE5uDlbbx5m"
      },
      "outputs": [],
      "source": [
        "clf_GB = GradientBoostingClassifier(n_estimators=100, learning_rate=1.0, random_state=0).fit(X_train, Y_train)"
      ]
    },
    {
      "cell_type": "code",
      "execution_count": null,
      "metadata": {
        "id": "7pz96as2bx5n",
        "outputId": "f1b4d412-83ca-49fd-bb90-52ebf891dd11"
      },
      "outputs": [
        {
          "name": "stdout",
          "output_type": "stream",
          "text": [
            "Accuracy :  0.8586956521739131\n"
          ]
        }
      ],
      "source": [
        "y_GB_pred=clf_GB.predict(X_test)\n",
        "print(\"Accuracy : \",accuracy_score(y_GB_pred,Y_test))"
      ]
    },
    {
      "cell_type": "code",
      "execution_count": null,
      "metadata": {
        "id": "eYewGYvnbx5o",
        "outputId": "4bac5659-60d5-4ebb-a370-ad5011645f80"
      },
      "outputs": [
        {
          "name": "stdout",
          "output_type": "stream",
          "text": [
            "              precision    recall  f1-score   support\n",
            "\n",
            "           0       0.82      0.86      0.84        78\n",
            "           1       0.89      0.86      0.88       106\n",
            "\n",
            "    accuracy                           0.86       184\n",
            "   macro avg       0.85      0.86      0.86       184\n",
            "weighted avg       0.86      0.86      0.86       184\n",
            "\n"
          ]
        }
      ],
      "source": [
        "print(classification_report(y_GB_pred,Y_test))"
      ]
    },
    {
      "cell_type": "markdown",
      "metadata": {
        "id": "qrbYSsm4bx5p"
      },
      "source": [
        "# KNN"
      ]
    },
    {
      "cell_type": "code",
      "execution_count": null,
      "metadata": {
        "id": "Nn-Yz5vpbx5q"
      },
      "outputs": [],
      "source": [
        "from sklearn.neighbors import KNeighborsClassifier"
      ]
    },
    {
      "cell_type": "code",
      "execution_count": null,
      "metadata": {
        "id": "olQbbXI_bx5r",
        "outputId": "80568c2d-a123-421e-f77b-550413147f63"
      },
      "outputs": [
        {
          "name": "stdout",
          "output_type": "stream",
          "text": [
            "Accuracy :  0.7119565217391305\n"
          ]
        }
      ],
      "source": [
        "clf_Knn = KNeighborsClassifier(n_neighbors=5)\n",
        "clf_Knn.fit(X_train, Y_train)\n",
        "y_Knn_pred=clf_Knn.predict(X_test)\n",
        "print(\"Accuracy : \",accuracy_score(y_Knn_pred,Y_test))"
      ]
    },
    {
      "cell_type": "markdown",
      "metadata": {
        "id": "g186R7y1bx5s"
      },
      "source": [
        "# Deep learning"
      ]
    },
    {
      "cell_type": "code",
      "execution_count": null,
      "metadata": {
        "id": "ENLLkAg6bx5s"
      },
      "outputs": [],
      "source": [
        "import tensorflow as tf\n",
        "classifier = tf.keras.models.Sequential()\n",
        "classifier.add(tf.keras.layers.Dense(units = 128, activation = \"relu\"))\n",
        "classifier.add(tf.keras.layers.Dropout(0.2))\n",
        "classifier.add(tf.keras.layers.Dense(units = 32, activation = \"relu\"))\n",
        "classifier.add(tf.keras.layers.Dropout(0.1))\n",
        "classifier.add(tf.keras.layers.Dense(units = 1,activation = \"sigmoid\"))\n",
        "classifier.compile(optimizer = \"adam\", loss = \"binary_crossentropy\" , metrics=[\"accuracy\"])"
      ]
    },
    {
      "cell_type": "code",
      "execution_count": null,
      "metadata": {
        "id": "soybdfjibx5t",
        "outputId": "f1ad99c9-8482-4ba4-9a0e-0ce60563d825"
      },
      "outputs": [
        {
          "name": "stdout",
          "output_type": "stream",
          "text": [
            "Epoch 1/100\n",
            "23/23 [==============================] - 0s 5ms/step - loss: 0.3164 - accuracy: 0.8719 - val_loss: 0.2930 - val_accuracy: 0.8967\n",
            "Epoch 2/100\n",
            "23/23 [==============================] - 0s 3ms/step - loss: 0.3097 - accuracy: 0.8665 - val_loss: 0.2939 - val_accuracy: 0.8967\n",
            "Epoch 3/100\n",
            "23/23 [==============================] - 0s 3ms/step - loss: 0.3099 - accuracy: 0.8624 - val_loss: 0.2895 - val_accuracy: 0.9022\n",
            "Epoch 4/100\n",
            "23/23 [==============================] - 0s 3ms/step - loss: 0.2981 - accuracy: 0.8692 - val_loss: 0.2894 - val_accuracy: 0.8967\n",
            "Epoch 5/100\n",
            "23/23 [==============================] - 0s 5ms/step - loss: 0.3012 - accuracy: 0.8733 - val_loss: 0.2868 - val_accuracy: 0.8967\n",
            "Epoch 6/100\n",
            "23/23 [==============================] - 0s 4ms/step - loss: 0.2837 - accuracy: 0.8842 - val_loss: 0.2861 - val_accuracy: 0.8967\n",
            "Epoch 7/100\n",
            "23/23 [==============================] - 0s 4ms/step - loss: 0.2899 - accuracy: 0.8719 - val_loss: 0.2885 - val_accuracy: 0.8913\n",
            "Epoch 8/100\n",
            "23/23 [==============================] - 0s 4ms/step - loss: 0.2911 - accuracy: 0.8801 - val_loss: 0.2899 - val_accuracy: 0.8967\n",
            "Epoch 9/100\n",
            "23/23 [==============================] - 0s 4ms/step - loss: 0.2840 - accuracy: 0.8910 - val_loss: 0.2813 - val_accuracy: 0.8913\n",
            "Epoch 10/100\n",
            "23/23 [==============================] - 0s 3ms/step - loss: 0.2942 - accuracy: 0.8842 - val_loss: 0.2817 - val_accuracy: 0.8859\n",
            "Epoch 11/100\n",
            "23/23 [==============================] - 0s 4ms/step - loss: 0.2829 - accuracy: 0.8815 - val_loss: 0.2808 - val_accuracy: 0.8913\n",
            "Epoch 12/100\n",
            "23/23 [==============================] - 0s 4ms/step - loss: 0.2969 - accuracy: 0.8747 - val_loss: 0.2788 - val_accuracy: 0.8913\n",
            "Epoch 13/100\n",
            "23/23 [==============================] - 0s 5ms/step - loss: 0.2619 - accuracy: 0.9019 - val_loss: 0.2749 - val_accuracy: 0.8967\n",
            "Epoch 14/100\n",
            "23/23 [==============================] - 0s 5ms/step - loss: 0.2738 - accuracy: 0.8828 - val_loss: 0.2755 - val_accuracy: 0.8967\n",
            "Epoch 15/100\n",
            "23/23 [==============================] - 0s 4ms/step - loss: 0.2676 - accuracy: 0.8896 - val_loss: 0.2762 - val_accuracy: 0.8913\n",
            "Epoch 16/100\n",
            "23/23 [==============================] - 0s 5ms/step - loss: 0.2601 - accuracy: 0.8937 - val_loss: 0.2736 - val_accuracy: 0.8913\n",
            "Epoch 17/100\n",
            "23/23 [==============================] - 0s 5ms/step - loss: 0.2681 - accuracy: 0.8910 - val_loss: 0.2742 - val_accuracy: 0.9022\n",
            "Epoch 18/100\n",
            "23/23 [==============================] - 0s 4ms/step - loss: 0.2567 - accuracy: 0.8924 - val_loss: 0.2732 - val_accuracy: 0.8859\n",
            "Epoch 19/100\n",
            "23/23 [==============================] - 0s 5ms/step - loss: 0.2620 - accuracy: 0.8937 - val_loss: 0.2754 - val_accuracy: 0.9022\n",
            "Epoch 20/100\n",
            "23/23 [==============================] - 0s 4ms/step - loss: 0.2525 - accuracy: 0.9033 - val_loss: 0.2708 - val_accuracy: 0.9022\n",
            "Epoch 21/100\n",
            "23/23 [==============================] - 0s 3ms/step - loss: 0.2523 - accuracy: 0.8896 - val_loss: 0.2752 - val_accuracy: 0.9022\n",
            "Epoch 22/100\n",
            "23/23 [==============================] - 0s 3ms/step - loss: 0.2577 - accuracy: 0.8869 - val_loss: 0.2702 - val_accuracy: 0.8967\n",
            "Epoch 23/100\n",
            "23/23 [==============================] - 0s 3ms/step - loss: 0.2534 - accuracy: 0.8951 - val_loss: 0.2715 - val_accuracy: 0.8913\n",
            "Epoch 24/100\n",
            "23/23 [==============================] - 0s 3ms/step - loss: 0.2462 - accuracy: 0.8896 - val_loss: 0.2759 - val_accuracy: 0.9130\n",
            "Epoch 25/100\n",
            "23/23 [==============================] - 0s 3ms/step - loss: 0.2354 - accuracy: 0.9074 - val_loss: 0.2720 - val_accuracy: 0.8913\n",
            "Epoch 26/100\n",
            "23/23 [==============================] - 0s 3ms/step - loss: 0.2420 - accuracy: 0.9087 - val_loss: 0.2753 - val_accuracy: 0.9076\n",
            "Epoch 27/100\n",
            "23/23 [==============================] - 0s 3ms/step - loss: 0.2438 - accuracy: 0.9019 - val_loss: 0.2749 - val_accuracy: 0.9022\n",
            "Epoch 28/100\n",
            "23/23 [==============================] - 0s 3ms/step - loss: 0.2353 - accuracy: 0.9101 - val_loss: 0.2740 - val_accuracy: 0.9022\n",
            "Epoch 29/100\n",
            "23/23 [==============================] - 0s 3ms/step - loss: 0.2273 - accuracy: 0.9114 - val_loss: 0.2750 - val_accuracy: 0.9022\n",
            "Epoch 30/100\n",
            "23/23 [==============================] - 0s 3ms/step - loss: 0.2197 - accuracy: 0.9114 - val_loss: 0.2728 - val_accuracy: 0.8913\n",
            "Epoch 31/100\n",
            "23/23 [==============================] - 0s 3ms/step - loss: 0.2369 - accuracy: 0.9005 - val_loss: 0.2732 - val_accuracy: 0.8913\n",
            "Epoch 32/100\n",
            "23/23 [==============================] - 0s 3ms/step - loss: 0.2166 - accuracy: 0.9074 - val_loss: 0.2691 - val_accuracy: 0.8967\n",
            "Epoch 33/100\n",
            "23/23 [==============================] - 0s 3ms/step - loss: 0.2290 - accuracy: 0.9046 - val_loss: 0.2708 - val_accuracy: 0.8967\n",
            "Epoch 34/100\n",
            "23/23 [==============================] - 0s 3ms/step - loss: 0.2274 - accuracy: 0.9128 - val_loss: 0.2764 - val_accuracy: 0.9022\n",
            "Epoch 35/100\n",
            "23/23 [==============================] - 0s 3ms/step - loss: 0.2203 - accuracy: 0.9155 - val_loss: 0.2738 - val_accuracy: 0.9022\n",
            "Epoch 36/100\n",
            "23/23 [==============================] - 0s 3ms/step - loss: 0.2152 - accuracy: 0.9060 - val_loss: 0.2678 - val_accuracy: 0.9022\n",
            "Epoch 37/100\n",
            "23/23 [==============================] - 0s 3ms/step - loss: 0.2171 - accuracy: 0.9087 - val_loss: 0.2720 - val_accuracy: 0.8967\n",
            "Epoch 38/100\n",
            "23/23 [==============================] - 0s 3ms/step - loss: 0.2146 - accuracy: 0.9169 - val_loss: 0.2737 - val_accuracy: 0.8967\n",
            "Epoch 39/100\n",
            "23/23 [==============================] - 0s 3ms/step - loss: 0.2140 - accuracy: 0.9183 - val_loss: 0.2723 - val_accuracy: 0.8967\n",
            "Epoch 40/100\n",
            "23/23 [==============================] - 0s 4ms/step - loss: 0.2040 - accuracy: 0.9223 - val_loss: 0.2752 - val_accuracy: 0.8967\n",
            "Epoch 41/100\n",
            "23/23 [==============================] - 0s 3ms/step - loss: 0.2162 - accuracy: 0.9128 - val_loss: 0.2738 - val_accuracy: 0.9076\n",
            "Epoch 42/100\n",
            "23/23 [==============================] - 0s 3ms/step - loss: 0.2142 - accuracy: 0.9060 - val_loss: 0.2742 - val_accuracy: 0.8967\n",
            "Epoch 43/100\n",
            "23/23 [==============================] - 0s 3ms/step - loss: 0.2103 - accuracy: 0.9087 - val_loss: 0.2758 - val_accuracy: 0.9076\n",
            "Epoch 44/100\n",
            "23/23 [==============================] - 0s 3ms/step - loss: 0.2137 - accuracy: 0.9128 - val_loss: 0.2726 - val_accuracy: 0.9130\n",
            "Epoch 45/100\n",
            "23/23 [==============================] - 0s 3ms/step - loss: 0.2168 - accuracy: 0.9183 - val_loss: 0.2750 - val_accuracy: 0.8967\n",
            "Epoch 46/100\n",
            "23/23 [==============================] - 0s 3ms/step - loss: 0.2170 - accuracy: 0.9155 - val_loss: 0.2724 - val_accuracy: 0.9022\n",
            "Epoch 47/100\n",
            "23/23 [==============================] - 0s 3ms/step - loss: 0.2014 - accuracy: 0.9169 - val_loss: 0.2722 - val_accuracy: 0.9076\n",
            "Epoch 48/100\n",
            "23/23 [==============================] - 0s 3ms/step - loss: 0.2205 - accuracy: 0.9046 - val_loss: 0.2793 - val_accuracy: 0.9076\n",
            "Epoch 49/100\n",
            "23/23 [==============================] - 0s 3ms/step - loss: 0.1924 - accuracy: 0.9251 - val_loss: 0.2827 - val_accuracy: 0.8967\n",
            "Epoch 50/100\n",
            "23/23 [==============================] - 0s 3ms/step - loss: 0.1946 - accuracy: 0.9128 - val_loss: 0.2758 - val_accuracy: 0.8967\n",
            "Epoch 51/100\n",
            "23/23 [==============================] - 0s 3ms/step - loss: 0.2051 - accuracy: 0.9142 - val_loss: 0.2789 - val_accuracy: 0.9022\n",
            "Epoch 52/100\n",
            "23/23 [==============================] - 0s 3ms/step - loss: 0.2029 - accuracy: 0.9155 - val_loss: 0.2738 - val_accuracy: 0.9076\n",
            "Epoch 53/100\n",
            "23/23 [==============================] - 0s 3ms/step - loss: 0.2089 - accuracy: 0.9128 - val_loss: 0.2741 - val_accuracy: 0.8967\n",
            "Epoch 54/100\n",
            "23/23 [==============================] - 0s 3ms/step - loss: 0.2146 - accuracy: 0.9128 - val_loss: 0.2798 - val_accuracy: 0.9022\n",
            "Epoch 55/100\n",
            "23/23 [==============================] - 0s 3ms/step - loss: 0.2001 - accuracy: 0.9223 - val_loss: 0.2697 - val_accuracy: 0.9076\n",
            "Epoch 56/100\n",
            "23/23 [==============================] - 0s 3ms/step - loss: 0.1942 - accuracy: 0.9196 - val_loss: 0.2777 - val_accuracy: 0.8967\n",
            "Epoch 57/100\n",
            "23/23 [==============================] - 0s 3ms/step - loss: 0.1882 - accuracy: 0.9292 - val_loss: 0.2821 - val_accuracy: 0.9022\n",
            "Epoch 58/100\n",
            "23/23 [==============================] - 0s 3ms/step - loss: 0.1933 - accuracy: 0.9183 - val_loss: 0.2789 - val_accuracy: 0.8967\n",
            "Epoch 59/100\n",
            "23/23 [==============================] - 0s 4ms/step - loss: 0.1794 - accuracy: 0.9360 - val_loss: 0.2774 - val_accuracy: 0.8913\n",
            "Epoch 60/100\n",
            "23/23 [==============================] - 0s 3ms/step - loss: 0.1862 - accuracy: 0.9292 - val_loss: 0.2848 - val_accuracy: 0.9022\n",
            "Epoch 61/100\n",
            "23/23 [==============================] - 0s 3ms/step - loss: 0.1997 - accuracy: 0.9128 - val_loss: 0.2827 - val_accuracy: 0.9022\n",
            "Epoch 62/100\n",
            "23/23 [==============================] - 0s 3ms/step - loss: 0.1758 - accuracy: 0.9346 - val_loss: 0.2825 - val_accuracy: 0.8859\n",
            "Epoch 63/100\n",
            "23/23 [==============================] - 0s 3ms/step - loss: 0.1764 - accuracy: 0.9292 - val_loss: 0.2793 - val_accuracy: 0.8967\n",
            "Epoch 64/100\n",
            "23/23 [==============================] - 0s 3ms/step - loss: 0.1747 - accuracy: 0.9387 - val_loss: 0.2899 - val_accuracy: 0.8804\n",
            "Epoch 65/100\n",
            "23/23 [==============================] - 0s 3ms/step - loss: 0.1751 - accuracy: 0.9373 - val_loss: 0.2899 - val_accuracy: 0.8804\n",
            "Epoch 66/100\n",
            "23/23 [==============================] - 0s 3ms/step - loss: 0.1806 - accuracy: 0.9292 - val_loss: 0.2914 - val_accuracy: 0.8913\n",
            "Epoch 67/100\n",
            "23/23 [==============================] - 0s 3ms/step - loss: 0.1860 - accuracy: 0.9346 - val_loss: 0.2928 - val_accuracy: 0.8804\n",
            "Epoch 68/100\n",
            "23/23 [==============================] - 0s 3ms/step - loss: 0.1872 - accuracy: 0.9210 - val_loss: 0.2869 - val_accuracy: 0.8913\n",
            "Epoch 69/100\n",
            "23/23 [==============================] - 0s 3ms/step - loss: 0.1830 - accuracy: 0.9196 - val_loss: 0.2826 - val_accuracy: 0.8859\n",
            "Epoch 70/100\n",
            "23/23 [==============================] - 0s 3ms/step - loss: 0.1806 - accuracy: 0.9387 - val_loss: 0.2836 - val_accuracy: 0.9022\n",
            "Epoch 71/100\n",
            "23/23 [==============================] - 0s 3ms/step - loss: 0.1785 - accuracy: 0.9292 - val_loss: 0.2802 - val_accuracy: 0.8913\n",
            "Epoch 72/100\n",
            "23/23 [==============================] - 0s 3ms/step - loss: 0.1783 - accuracy: 0.9196 - val_loss: 0.2782 - val_accuracy: 0.8913\n",
            "Epoch 73/100\n",
            "23/23 [==============================] - 0s 3ms/step - loss: 0.1676 - accuracy: 0.9360 - val_loss: 0.2814 - val_accuracy: 0.8859\n",
            "Epoch 74/100\n",
            "23/23 [==============================] - 0s 3ms/step - loss: 0.1767 - accuracy: 0.9251 - val_loss: 0.2931 - val_accuracy: 0.8859\n",
            "Epoch 75/100\n",
            "23/23 [==============================] - 0s 3ms/step - loss: 0.1709 - accuracy: 0.9360 - val_loss: 0.2889 - val_accuracy: 0.9022\n",
            "Epoch 76/100\n",
            "23/23 [==============================] - 0s 3ms/step - loss: 0.1763 - accuracy: 0.9305 - val_loss: 0.2948 - val_accuracy: 0.8804\n",
            "Epoch 77/100\n",
            "23/23 [==============================] - 0s 3ms/step - loss: 0.1806 - accuracy: 0.9292 - val_loss: 0.2864 - val_accuracy: 0.9022\n",
            "Epoch 78/100\n",
            "23/23 [==============================] - 0s 3ms/step - loss: 0.1762 - accuracy: 0.9428 - val_loss: 0.2864 - val_accuracy: 0.8913\n",
            "Epoch 79/100\n",
            "23/23 [==============================] - 0s 3ms/step - loss: 0.1742 - accuracy: 0.9292 - val_loss: 0.2868 - val_accuracy: 0.9076\n",
            "Epoch 80/100\n",
            "23/23 [==============================] - 0s 3ms/step - loss: 0.1642 - accuracy: 0.9278 - val_loss: 0.2927 - val_accuracy: 0.8913\n",
            "Epoch 81/100\n",
            "23/23 [==============================] - 0s 3ms/step - loss: 0.1515 - accuracy: 0.9414 - val_loss: 0.2893 - val_accuracy: 0.8967\n",
            "Epoch 82/100\n",
            "23/23 [==============================] - 0s 3ms/step - loss: 0.1745 - accuracy: 0.9360 - val_loss: 0.2932 - val_accuracy: 0.8913\n",
            "Epoch 83/100\n",
            "23/23 [==============================] - 0s 3ms/step - loss: 0.1509 - accuracy: 0.9441 - val_loss: 0.2952 - val_accuracy: 0.8859\n",
            "Epoch 84/100\n",
            "23/23 [==============================] - 0s 3ms/step - loss: 0.1606 - accuracy: 0.9332 - val_loss: 0.3042 - val_accuracy: 0.8859\n",
            "Epoch 85/100\n",
            "23/23 [==============================] - 0s 3ms/step - loss: 0.1651 - accuracy: 0.9428 - val_loss: 0.2995 - val_accuracy: 0.8913\n",
            "Epoch 86/100\n",
            "23/23 [==============================] - 0s 4ms/step - loss: 0.1600 - accuracy: 0.9469 - val_loss: 0.3007 - val_accuracy: 0.8859\n",
            "Epoch 87/100\n",
            "23/23 [==============================] - 0s 3ms/step - loss: 0.1582 - accuracy: 0.9441 - val_loss: 0.3074 - val_accuracy: 0.8804\n",
            "Epoch 88/100\n",
            "23/23 [==============================] - 0s 3ms/step - loss: 0.1488 - accuracy: 0.9387 - val_loss: 0.3061 - val_accuracy: 0.8750\n",
            "Epoch 89/100\n",
            "23/23 [==============================] - 0s 3ms/step - loss: 0.1463 - accuracy: 0.9482 - val_loss: 0.3090 - val_accuracy: 0.8696\n",
            "Epoch 90/100\n",
            "23/23 [==============================] - 0s 3ms/step - loss: 0.1557 - accuracy: 0.9387 - val_loss: 0.3113 - val_accuracy: 0.8804\n",
            "Epoch 91/100\n",
            "23/23 [==============================] - 0s 3ms/step - loss: 0.1523 - accuracy: 0.9373 - val_loss: 0.3055 - val_accuracy: 0.8696\n",
            "Epoch 92/100\n",
            "23/23 [==============================] - 0s 3ms/step - loss: 0.1615 - accuracy: 0.9401 - val_loss: 0.3091 - val_accuracy: 0.8804\n",
            "Epoch 93/100\n",
            "23/23 [==============================] - 0s 3ms/step - loss: 0.1509 - accuracy: 0.9441 - val_loss: 0.3202 - val_accuracy: 0.8804\n",
            "Epoch 94/100\n",
            "23/23 [==============================] - 0s 3ms/step - loss: 0.1505 - accuracy: 0.9414 - val_loss: 0.3081 - val_accuracy: 0.8967\n",
            "Epoch 95/100\n",
            "23/23 [==============================] - 0s 3ms/step - loss: 0.1467 - accuracy: 0.9537 - val_loss: 0.3293 - val_accuracy: 0.8804\n",
            "Epoch 96/100\n",
            "23/23 [==============================] - 0s 3ms/step - loss: 0.1562 - accuracy: 0.9319 - val_loss: 0.3157 - val_accuracy: 0.8804\n",
            "Epoch 97/100\n",
            "23/23 [==============================] - 0s 3ms/step - loss: 0.1575 - accuracy: 0.9428 - val_loss: 0.3188 - val_accuracy: 0.8750\n",
            "Epoch 98/100\n",
            "23/23 [==============================] - 0s 3ms/step - loss: 0.1500 - accuracy: 0.9455 - val_loss: 0.3218 - val_accuracy: 0.8696\n",
            "Epoch 99/100\n",
            "23/23 [==============================] - 0s 3ms/step - loss: 0.1502 - accuracy: 0.9414 - val_loss: 0.3200 - val_accuracy: 0.8641\n",
            "Epoch 100/100\n",
            "23/23 [==============================] - 0s 3ms/step - loss: 0.1559 - accuracy: 0.9360 - val_loss: 0.3249 - val_accuracy: 0.8641\n"
          ]
        },
        {
          "data": {
            "text/plain": [
              "<keras.callbacks.History at 0x2358d0d4fd0>"
            ]
          },
          "execution_count": 21,
          "metadata": {},
          "output_type": "execute_result"
        }
      ],
      "source": [
        "classifier.fit(scaled_X_train,Y_train,epochs = 100,validation_data = (scaled_X_test,Y_test))"
      ]
    },
    {
      "cell_type": "code",
      "execution_count": null,
      "metadata": {
        "id": "knsWaH9Kbx5t",
        "outputId": "ba67b88a-082d-4ea2-e42f-c72c0269520c"
      },
      "outputs": [
        {
          "name": "stdout",
          "output_type": "stream",
          "text": [
            "Accuracy :  0.8804347826086957\n"
          ]
        }
      ],
      "source": [
        "y_pred = classifier.predict(scaled_X_test)\n",
        "y_pred = (y_pred > 0.3)\n",
        "print(\"Accuracy : \",accuracy_score(y_pred,Y_test))"
      ]
    },
    {
      "cell_type": "code",
      "execution_count": null,
      "metadata": {
        "id": "71dTbHCbbx5u",
        "outputId": "306a07ad-e9d0-4420-f90d-c7b8be96f930"
      },
      "outputs": [
        {
          "name": "stdout",
          "output_type": "stream",
          "text": [
            "              precision    recall  f1-score   support\n",
            "\n",
            "       False       0.82      0.91      0.86        74\n",
            "        True       0.93      0.86      0.90       110\n",
            "\n",
            "    accuracy                           0.88       184\n",
            "   macro avg       0.87      0.88      0.88       184\n",
            "weighted avg       0.89      0.88      0.88       184\n",
            "\n"
          ]
        }
      ],
      "source": [
        "print(classification_report(y_pred,Y_test))"
      ]
    },
    {
      "cell_type": "code",
      "execution_count": null,
      "metadata": {
        "id": "-5qqaHyMbx5v"
      },
      "outputs": [],
      "source": []
    }
  ],
  "metadata": {
    "interpreter": {
      "hash": "e404b59586357c814bc0d3940e75d6763c00a48753b225b81f7716971b8e1741"
    },
    "kernelspec": {
      "display_name": "Python 3.8.2 64-bit",
      "language": "python",
      "name": "python3"
    },
    "language_info": {
      "codemirror_mode": {
        "name": "ipython",
        "version": 3
      },
      "file_extension": ".py",
      "mimetype": "text/x-python",
      "name": "python",
      "nbconvert_exporter": "python",
      "pygments_lexer": "ipython3",
      "version": "3.10.2"
    },
    "orig_nbformat": 4,
    "colab": {
      "provenance": []
    }
  },
  "nbformat": 4,
  "nbformat_minor": 0
}